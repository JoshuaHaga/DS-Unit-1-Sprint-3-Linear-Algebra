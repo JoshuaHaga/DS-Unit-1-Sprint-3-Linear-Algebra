{
  "nbformat": 4,
  "nbformat_minor": 0,
  "metadata": {
    "colab": {
      "name": "DS_Unit_1_Sprint_Challenge_3_Linear_Algebra.ipynb",
      "provenance": [],
      "include_colab_link": true
    },
    "kernelspec": {
      "name": "python3",
      "display_name": "Python 3"
    }
  },
  "cells": [
    {
      "cell_type": "markdown",
      "metadata": {
        "id": "view-in-github",
        "colab_type": "text"
      },
      "source": [
        "<a href=\"https://colab.research.google.com/github/JoshuaHaga/DS-Unit-1-Sprint-3-Linear-Algebra/blob/master/DS_Unit_1_Sprint_Challenge_3_Linear_Algebra.ipynb\" target=\"_parent\"><img src=\"https://colab.research.google.com/assets/colab-badge.svg\" alt=\"Open In Colab\"/></a>"
      ]
    },
    {
      "cell_type": "markdown",
      "metadata": {
        "id": "-wQxiT7yC4_v",
        "colab_type": "text"
      },
      "source": [
        "#Linear Algebra"
      ]
    },
    {
      "cell_type": "code",
      "metadata": {
        "id": "9OAcQJYzNmum",
        "colab_type": "code",
        "colab": {
          "base_uri": "https://localhost:8080/",
          "height": 51
        },
        "outputId": "b1ae1332-1afc-4992-9bfc-5d2c32f71072"
      },
      "source": [
        "import numpy as np \n",
        "import matplotlib.pyplot as plt \n",
        "import seaborn as sn\n",
        "import math\n",
        "import numpy.linalg as la\n",
        "from mpl_toolkits.mplot3d import Axes3D"
      ],
      "execution_count": 1,
      "outputs": [
        {
          "output_type": "stream",
          "text": [
            "/usr/local/lib/python3.6/dist-packages/statsmodels/tools/_testing.py:19: FutureWarning: pandas.util.testing is deprecated. Use the functions in the public API at pandas.testing instead.\n",
            "  import pandas.util.testing as tm\n"
          ],
          "name": "stderr"
        }
      ]
    },
    {
      "cell_type": "markdown",
      "metadata": {
        "id": "aiUlaNJkECCL",
        "colab_type": "text"
      },
      "source": [
        "## 1.1 Graph vector $\\vec{a}$ \n",
        "\n",
        "\\begin{align}\n",
        "\\vec{a} = \\begin{bmatrix} 3 \\\\ 2 \\end{bmatrix}\n",
        "\\end{align}"
      ]
    },
    {
      "cell_type": "code",
      "metadata": {
        "id": "QpCKt0n5IeiY",
        "colab_type": "code",
        "colab": {}
      },
      "source": [
        "vector = [3,2]"
      ],
      "execution_count": null,
      "outputs": []
    },
    {
      "cell_type": "code",
      "metadata": {
        "id": "FvRKEZ3aNwsU",
        "colab_type": "code",
        "colab": {
          "base_uri": "https://localhost:8080/",
          "height": 269
        },
        "outputId": "71417e9e-4c09-4306-cae4-26e1f3ad064d"
      },
      "source": [
        "fig, ax = plt.subplots()\n",
        "ax.grid()\n",
        "plt.xlim(0,5)\n",
        "plt.ylim(0,5)\n",
        "plt.arrow(0,0,\n",
        "          vector[0], vector[1], \n",
        "          head_width=.2, \n",
        "          linewidth = 2, \n",
        "          color = 'g')\n",
        "plt.show();"
      ],
      "execution_count": null,
      "outputs": [
        {
          "output_type": "display_data",
          "data": {
            "image/png": "[encoded data removed]",
            "text/plain": [
              "<Figure size 432x288 with 1 Axes>"
            ]
          },
          "metadata": {
            "tags": [],
            "needs_background": "light"
          }
        }
      ]
    },
    {
      "cell_type": "markdown",
      "metadata": {
        "id": "BDLB08NXEiUN",
        "colab_type": "text"
      },
      "source": [
        "## 1.2 Find $||\\vec{b}||$. What does the norm of a vector represent?\n",
        "\\begin{align}\n",
        "\\vec{b} = \\begin{bmatrix} 17 & -4 & -2 & 1\\end{bmatrix}\n",
        "\\end{align}\n"
      ]
    },
    {
      "cell_type": "markdown",
      "metadata": {
        "id": "Ut48nhBwOxoY",
        "colab_type": "text"
      },
      "source": [
        "##Vector b:\n",
        "\\begin{align}\n",
        "||b|| = \n",
        "\\sqrt{17^2 + -4^2 + -2^2 + 1^2}\n",
        "\\\\\n",
        "\\\\\n",
        "||b|| = \n",
        "\\sqrt{289 +16+4+1}\n",
        "\\\\\n",
        "\\\\\n",
        "||b|| = \n",
        "\\sqrt{310}\n",
        "\\\\\n",
        "\\\\\n",
        "||b|| = 17.60681686165901\n",
        "\\end{align}"
      ]
    },
    {
      "cell_type": "markdown",
      "metadata": {
        "id": "0xpIn4igRqvi",
        "colab_type": "text"
      },
      "source": [
        "# Answer\n",
        "The norm of a vector in vector space, is a real non negative value that intuitively represents the length, size, or magnitude of the vector. "
      ]
    },
    {
      "cell_type": "code",
      "metadata": {
        "id": "y4qkuP0ORNHm",
        "colab_type": "code",
        "colab": {}
      },
      "source": [
        "b = [17, -4, -2, 1]"
      ],
      "execution_count": null,
      "outputs": []
    },
    {
      "cell_type": "code",
      "metadata": {
        "id": "1D9g3zfYOvOe",
        "colab_type": "code",
        "colab": {}
      },
      "source": [
        "def vect_norm(vector):\n",
        "  return (sum([vector[i]**2 for i in range(len(vector))])**.5)"
      ],
      "execution_count": null,
      "outputs": []
    },
    {
      "cell_type": "code",
      "metadata": {
        "id": "Fp3mocAKIfGD",
        "colab_type": "code",
        "colab": {
          "base_uri": "https://localhost:8080/",
          "height": 34
        },
        "outputId": "61ce6de0-711b-4165-9ff5-93372113bf60"
      },
      "source": [
        "vect_norm(b)"
      ],
      "execution_count": null,
      "outputs": [
        {
          "output_type": "execute_result",
          "data": {
            "text/plain": [
              "17.60681686165901"
            ]
          },
          "metadata": {
            "tags": []
          },
          "execution_count": 12
        }
      ]
    },
    {
      "cell_type": "markdown",
      "metadata": {
        "id": "vBbJ0ZyPD6RG",
        "colab_type": "text"
      },
      "source": [
        "## 1.3 Find $\\vec{c} \\cdot \\vec{d}$ - Are these vectors orthogonal? Why or why not?\n",
        "\n",
        "\\begin{align}\n",
        "\\vec{c} = \\begin{bmatrix}3 & 7 & -2 & 12\\end{bmatrix}\n",
        "\\qquad\n",
        "\\vec{d} = \\begin{bmatrix}9 & -7 & 4 & 6\\end{bmatrix}\n",
        "\\end{align}"
      ]
    },
    {
      "cell_type": "code",
      "metadata": {
        "id": "NYb8BalmIfgY",
        "colab_type": "code",
        "colab": {}
      },
      "source": [
        "c = np.array([3,7,-2,12])\n",
        "d = np.array([9,-7,4,6])"
      ],
      "execution_count": null,
      "outputs": []
    },
    {
      "cell_type": "code",
      "metadata": {
        "id": "J-g3wmWtSdem",
        "colab_type": "code",
        "colab": {}
      },
      "source": [
        "def orthogonal(x,y):\n",
        "  val = np.dot(x,y)\n",
        "  print('Dot product:', val)\n",
        "  if val == 0:\n",
        "    print('Vectors are orthogonal')\n",
        "  else:\n",
        "    print('Vectors are NOT orthogonal')"
      ],
      "execution_count": null,
      "outputs": []
    },
    {
      "cell_type": "code",
      "metadata": {
        "id": "7iSwsFXASfJm",
        "colab_type": "code",
        "colab": {
          "base_uri": "https://localhost:8080/",
          "height": 51
        },
        "outputId": "626788de-6b6f-49cf-a450-deba89c53b57"
      },
      "source": [
        "orthogonal(c,d)\n"
      ],
      "execution_count": null,
      "outputs": [
        {
          "output_type": "stream",
          "text": [
            "Dot product: 42\n",
            "Vectors are NOT orthogonal\n"
          ],
          "name": "stdout"
        }
      ]
    },
    {
      "cell_type": "code",
      "metadata": {
        "id": "L1isFpRwUJoa",
        "colab_type": "code",
        "colab": {}
      },
      "source": [
        "cd_dot = np.dot(c,d)"
      ],
      "execution_count": null,
      "outputs": []
    },
    {
      "cell_type": "code",
      "metadata": {
        "id": "rNs6gj1nUZOS",
        "colab_type": "code",
        "colab": {
          "base_uri": "https://localhost:8080/",
          "height": 34
        },
        "outputId": "daadf5b7-78b6-494e-cbf0-dc5158bfccac"
      },
      "source": [
        "cd_dot"
      ],
      "execution_count": null,
      "outputs": [
        {
          "output_type": "execute_result",
          "data": {
            "text/plain": [
              "42"
            ]
          },
          "metadata": {
            "tags": []
          },
          "execution_count": 41
        }
      ]
    },
    {
      "cell_type": "code",
      "metadata": {
        "id": "ALj0WbCqUbL7",
        "colab_type": "code",
        "colab": {}
      },
      "source": [
        "#The dot product of C & D Is not equal to zero meaning the vectors are not orthogonal. "
      ],
      "execution_count": null,
      "outputs": []
    },
    {
      "cell_type": "markdown",
      "metadata": {
        "id": "gS85sJHWG7iU",
        "colab_type": "text"
      },
      "source": [
        "## 1.4 Find $E^{-1}$ and $E^{T}$\n",
        "\n",
        "\\begin{align}\n",
        "E = \n",
        "\\begin{bmatrix}\n",
        "    7 & 4 & 2 \\\\\n",
        "    1 & 3 & -1 \\\\\n",
        "    2 & 6 & -4\n",
        "\\end{bmatrix}\n",
        "\\end{align}"
      ]
    },
    {
      "cell_type": "markdown",
      "metadata": {
        "id": "_BNPX35mY_RC",
        "colab_type": "text"
      },
      "source": [
        "##$E^{T}$"
      ]
    },
    {
      "cell_type": "code",
      "metadata": {
        "id": "-XDYdxcVZtZ8",
        "colab_type": "code",
        "colab": {}
      },
      "source": [
        "e = [[7,4,2],\n",
        "     [1,3,-1],\n",
        "     [2,6,-4]]"
      ],
      "execution_count": null,
      "outputs": []
    },
    {
      "cell_type": "code",
      "metadata": {
        "id": "QiISq5egIgSS",
        "colab_type": "code",
        "colab": {}
      },
      "source": [
        "e_t = np.array(e).T"
      ],
      "execution_count": null,
      "outputs": []
    },
    {
      "cell_type": "code",
      "metadata": {
        "id": "YTwGaQ6qaQx4",
        "colab_type": "code",
        "colab": {
          "base_uri": "https://localhost:8080/",
          "height": 68
        },
        "outputId": "7747e7c3-67b8-4ec5-fe14-1d1917da55a3"
      },
      "source": [
        "e_t"
      ],
      "execution_count": null,
      "outputs": [
        {
          "output_type": "execute_result",
          "data": {
            "text/plain": [
              "array([[ 7,  1,  2],\n",
              "       [ 4,  3,  6],\n",
              "       [ 2, -1, -4]])"
            ]
          },
          "metadata": {
            "tags": []
          },
          "execution_count": 45
        }
      ]
    },
    {
      "cell_type": "markdown",
      "metadata": {
        "id": "9uvPwno9awtQ",
        "colab_type": "text"
      },
      "source": [
        "##$E^{-1}$"
      ]
    },
    {
      "cell_type": "code",
      "metadata": {
        "id": "9FkZzoP0auAG",
        "colab_type": "code",
        "colab": {}
      },
      "source": [
        "e_i = np.linalg.inv(e)"
      ],
      "execution_count": null,
      "outputs": []
    },
    {
      "cell_type": "code",
      "metadata": {
        "id": "pfbMgXhpa8H4",
        "colab_type": "code",
        "colab": {
          "base_uri": "https://localhost:8080/",
          "height": 68
        },
        "outputId": "be1418dc-f1bc-425c-c044-a6c9e99aaeb0"
      },
      "source": [
        "e_i"
      ],
      "execution_count": null,
      "outputs": [
        {
          "output_type": "execute_result",
          "data": {
            "text/plain": [
              "array([[ 0.17647059, -0.82352941,  0.29411765],\n",
              "       [-0.05882353,  0.94117647, -0.26470588],\n",
              "       [ 0.        ,  1.        , -0.5       ]])"
            ]
          },
          "metadata": {
            "tags": []
          },
          "execution_count": 49
        }
      ]
    },
    {
      "cell_type": "markdown",
      "metadata": {
        "id": "_DFQHO2HcPNz",
        "colab_type": "text"
      },
      "source": [
        "## 1.5 Find $|F|$ - What is one reason why the determinant of a matrix would be 0? \n",
        "\n",
        "\\begin{align}\n",
        "F = \n",
        "\\begin{bmatrix}\n",
        "    2 & -2 & 5 \\\\\n",
        "    4 & 1 & 10 \\\\\n",
        "    12 & 6 & 30\n",
        "\\end{bmatrix}\n",
        "\\end{align}"
      ]
    },
    {
      "cell_type": "code",
      "metadata": {
        "id": "BlZPHRrQZQ0o",
        "colab_type": "code",
        "colab": {}
      },
      "source": [
        "f = np.array([[2,-2,5],\n",
        "     [4,1,10],\n",
        "     [12,6,30]])"
      ],
      "execution_count": null,
      "outputs": []
    },
    {
      "cell_type": "code",
      "metadata": {
        "id": "DfW7zmgKZcEH",
        "colab_type": "code",
        "colab": {}
      },
      "source": [
        "f_det = np.linalg.det(f)"
      ],
      "execution_count": null,
      "outputs": []
    },
    {
      "cell_type": "code",
      "metadata": {
        "id": "u4YQjmugbpvQ",
        "colab_type": "code",
        "colab": {
          "base_uri": "https://localhost:8080/",
          "height": 34
        },
        "outputId": "0417a93d-69d9-41b5-af9d-d9fc6084d62b"
      },
      "source": [
        "print(f_det)"
      ],
      "execution_count": null,
      "outputs": [
        {
          "output_type": "stream",
          "text": [
            "0.0\n"
          ],
          "name": "stdout"
        }
      ]
    },
    {
      "cell_type": "code",
      "metadata": {
        "id": "wDRaeCgCcEoB",
        "colab_type": "code",
        "colab": {}
      },
      "source": [
        "# These are two reasons why the determinant could be 0\n",
        "# The columns of the matrix are dependent vectors in ℝ𝑛\n",
        "# The rows of the matrix are dependent vectors in ℝ𝑛"
      ],
      "execution_count": null,
      "outputs": []
    },
    {
      "cell_type": "markdown",
      "metadata": {
        "id": "TPzrKzEvC5YU",
        "colab_type": "text"
      },
      "source": [
        "# Intermediate Linear Algebra"
      ]
    },
    {
      "cell_type": "markdown",
      "metadata": {
        "id": "ap-us2lBGQyi",
        "colab_type": "text"
      },
      "source": [
        "## 2.1 Suppose that the number of customers at a ski resort as well as the number of inches of fresh powder (snow)  was recorded for 7 days. \n",
        "\n",
        "### Customers: [820, 760, 1250, 990, 1080, 1450, 1600]\n",
        "\n",
        "### Inches of new snow: [0, 1, 7, 1, 0, 6, 4 ]\n",
        "\n",
        "## Find the mean, sample variance, and sample standard deviation for both the number of customers and inches of new snow for the week. Remember that on SCs you can use library functions, dataframes, .describe(), etc. \n",
        "\n"
      ]
    },
    {
      "cell_type": "code",
      "metadata": {
        "id": "xS-JuHl9JiiP",
        "colab_type": "code",
        "colab": {}
      },
      "source": [
        "customers = np.array([820, 760, 1250, 990, 1080, 1450, 1600])\n",
        "snow = np.array([0, 1, 7, 1, 0, 6, 4])"
      ],
      "execution_count": 2,
      "outputs": []
    },
    {
      "cell_type": "code",
      "metadata": {
        "id": "cNxeVa0cg40d",
        "colab_type": "code",
        "colab": {}
      },
      "source": [
        "##### Your Code Here #####\n",
        "##Functions for Mean, Variance, and Standard Deviation##\n",
        "def mean(data):\n",
        "  return sum(data)/len(data)\n",
        "\n",
        "def var(data):\n",
        "  return sum([((entry-mean(data))**2) for entry in data])/len(data)\n",
        "\n",
        "def var_2(data):\n",
        "  d = list(map(lambda x: x - data.mean(), data))\n",
        "  s = list(map(lambda x: x**2, d))\n",
        "  v = sum(s)/(len(s)-1)\n",
        "  return v\n",
        "\n",
        "def stdv(data):\n",
        "  return (var(data)**.5)\n",
        "\n",
        "def stdv2(data):\n",
        "  return (var_2(data)**.5)"
      ],
      "execution_count": 10,
      "outputs": []
    },
    {
      "cell_type": "code",
      "metadata": {
        "id": "aoaRnxy2dHyK",
        "colab_type": "code",
        "colab": {}
      },
      "source": [
        "def compute(data):\n",
        "  print('Mean: ', mean(data))\n",
        "  print('Sample Variance: ', var(data))\n",
        "  print('Sample Variance 2: ', var_2(data))\n",
        "  print('Standard Dev: ', stdv(data))\n",
        "  print('Standard Dev 2: ', stdv2(data))\n"
      ],
      "execution_count": 11,
      "outputs": []
    },
    {
      "cell_type": "code",
      "metadata": {
        "id": "tvxKQ86Ad5Es",
        "colab_type": "code",
        "colab": {
          "base_uri": "https://localhost:8080/",
          "height": 102
        },
        "outputId": "6440f666-92be-4560-a670-b7cccd5c07c8"
      },
      "source": [
        "# Customers Mean, Variance, and Standard Deviation\n",
        "\n",
        "compute(customers)"
      ],
      "execution_count": 12,
      "outputs": [
        {
          "output_type": "stream",
          "text": [
            "Mean:  1135.7142857142858\n",
            "Sample Variance:  84653.06122448981\n",
            "Sample Variance 2:  98761.90476190478\n",
            "Standard Dev:  290.95199127087926\n",
            "Standard Dev 2:  314.26406851866597\n"
          ],
          "name": "stdout"
        }
      ]
    },
    {
      "cell_type": "code",
      "metadata": {
        "id": "tdrhhNLUeSlC",
        "colab_type": "code",
        "colab": {
          "base_uri": "https://localhost:8080/",
          "height": 102
        },
        "outputId": "a28c88fc-3b7e-4bc8-b1a0-084758190316"
      },
      "source": [
        "# Snow Mean, Variance, and Standard Deviation\n",
        "\n",
        "compute(snow)"
      ],
      "execution_count": 13,
      "outputs": [
        {
          "output_type": "stream",
          "text": [
            "Mean:  2.7142857142857144\n",
            "Sample Variance:  7.346938775510203\n",
            "Sample Variance 2:  8.571428571428571\n",
            "Standard Dev:  2.7105237087157534\n",
            "Standard Dev 2:  2.9277002188455996\n"
          ],
          "name": "stdout"
        }
      ]
    },
    {
      "cell_type": "markdown",
      "metadata": {
        "id": "3ePJtK4VLTLH",
        "colab_type": "text"
      },
      "source": [
        "## 2.2 Are the variances of the number of customers and inches of snow comparable? \n",
        "## Why or why not? "
      ]
    },
    {
      "cell_type": "code",
      "metadata": {
        "id": "LvTtgZ-5Ndw_",
        "colab_type": "code",
        "colab": {}
      },
      "source": [
        "# I feel like they are not comparable. They are both wildly different numbers. "
      ],
      "execution_count": 14,
      "outputs": []
    },
    {
      "cell_type": "markdown",
      "metadata": {
        "id": "ixhZVGxfGVFh",
        "colab_type": "text"
      },
      "source": [
        "## 2.3 Find the variance-covariance matrix for the number of customers and inches of snow at the ski resort. "
      ]
    },
    {
      "cell_type": "code",
      "metadata": {
        "id": "IbglmVaxJjO7",
        "colab_type": "code",
        "colab": {
          "base_uri": "https://localhost:8080/",
          "height": 51
        },
        "outputId": "a1d87103-773b-4aa6-9017-7eb309b05414"
      },
      "source": [
        "data = np.array([customers, snow]) ### Convert cust and snow to array\n",
        "data"
      ],
      "execution_count": 15,
      "outputs": [
        {
          "output_type": "execute_result",
          "data": {
            "text/plain": [
              "array([[ 820,  760, 1250,  990, 1080, 1450, 1600],\n",
              "       [   0,    1,    7,    1,    0,    6,    4]])"
            ]
          },
          "metadata": {
            "tags": []
          },
          "execution_count": 15
        }
      ]
    },
    {
      "cell_type": "code",
      "metadata": {
        "id": "kl8J8qV1kVpZ",
        "colab_type": "code",
        "colab": {}
      },
      "source": [
        "covMatrix = np.cov(data, bias=True)"
      ],
      "execution_count": 16,
      "outputs": []
    },
    {
      "cell_type": "code",
      "metadata": {
        "id": "ZWPhgYvVkfrK",
        "colab_type": "code",
        "colab": {
          "base_uri": "https://localhost:8080/",
          "height": 51
        },
        "outputId": "103cfb0c-aa75-4d56-b72d-80b606d50e82"
      },
      "source": [
        "covMatrix"
      ],
      "execution_count": 17,
      "outputs": [
        {
          "output_type": "execute_result",
          "data": {
            "text/plain": [
              "array([[8.46530612e+04, 5.74489796e+02],\n",
              "       [5.74489796e+02, 7.34693878e+00]])"
            ]
          },
          "metadata": {
            "tags": []
          },
          "execution_count": 17
        }
      ]
    },
    {
      "cell_type": "code",
      "metadata": {
        "id": "I8O3UnB6kiQV",
        "colab_type": "code",
        "colab": {
          "base_uri": "https://localhost:8080/",
          "height": 265
        },
        "outputId": "be533b1e-ed71-4613-b221-6c97c8988775"
      },
      "source": [
        "sn.heatmap(covMatrix, annot=True, fmt='g')\n",
        "plt.show()"
      ],
      "execution_count": 18,
      "outputs": [
        {
          "output_type": "display_data",
          "data": {
            "image/png": "[encoded data removed]",
            "text/plain": [
              "<Figure size 432x288 with 2 Axes>"
            ]
          },
          "metadata": {
            "tags": [],
            "needs_background": "light"
          }
        }
      ]
    },
    {
      "cell_type": "markdown",
      "metadata": {
        "id": "6Ks3_TbNC5yJ",
        "colab_type": "text"
      },
      "source": [
        "# PCA"
      ]
    },
    {
      "cell_type": "markdown",
      "metadata": {
        "id": "f6qJAPaaOdzD",
        "colab_type": "text"
      },
      "source": [
        "## 3.1 Standardize the data so that it has a mean of 0 and a standard deviation of 1. \n",
        "\n",
        "We have included some code to get you started so that you don't get stuck on something that isn't standardizing the data or PCA.\n",
        "\n",
        "This might be helpful:\n",
        "\n",
        "<https://scikit-learn.org/stable/modules/generated/sklearn.preprocessing.StandardScaler.html>"
      ]
    },
    {
      "cell_type": "code",
      "metadata": {
        "id": "bogsxfNyJlAw",
        "colab_type": "code",
        "colab": {
          "base_uri": "https://localhost:8080/",
          "height": 227
        },
        "outputId": "adb48312-e4c7-4187-e5e6-857f26f1acc0"
      },
      "source": [
        "# Let me get you some data to start you off.\n",
        "import pandas as pd\n",
        "\n",
        "data = {\"Country\": [\"England\",\"Wales\",\"Scotland\",\"North Ireland\"], \n",
        "        \"Cheese\": [105,103,103,66], \n",
        "        \"Carcass_Meat\": [245,227,242,267], \n",
        "        \"Other_Meat\": [685, 803, 750, 586], \n",
        "        \"Fish\": [147, 160, 122, 93], \n",
        "        \"Fats_and_Oils\": [193, 235, 184, 209], \n",
        "        \"Sugars\": [156, 175, 147, 139], \n",
        "        \"Fresh_Potatoes\": [720, 874, 566, 1033], \n",
        "        \"Fresh_Veg\": [253, 265, 171, 143], \n",
        "        \"Other_Veg\": [488, 570, 418, 355], \n",
        "        \"Processed_Potatoes\": [198, 203, 220, 187], \n",
        "        \"Processed_Veg\": [360, 365, 337, 334], \n",
        "        \"Fresh_Fruit\": [1102, 1137, 957, 674], \n",
        "        \"Cereals\": [1472, 1582, 1462, 1494], \n",
        "        \"Beverages\": [57,73,53,47], \n",
        "        \"Soft_Drinks\": [1374, 1256, 1572, 1506], \n",
        "        \"Alcoholic Drinks\": [375, 475, 458, 135], \n",
        "        \"Confectionery\": [54, 64, 62, 41]}\n",
        "\n",
        "df = pd.DataFrame(data)\n",
        "\n",
        "# Look at the data\n",
        "df.head()"
      ],
      "execution_count": 75,
      "outputs": [
        {
          "output_type": "execute_result",
          "data": {
            "text/html": [
              "<div>\n",
              "<style scoped>\n",
              "    .dataframe tbody tr th:only-of-type {\n",
              "        vertical-align: middle;\n",
              "    }\n",
              "\n",
              "    .dataframe tbody tr th {\n",
              "        vertical-align: top;\n",
              "    }\n",
              "\n",
              "    .dataframe thead th {\n",
              "        text-align: right;\n",
              "    }\n",
              "</style>\n",
              "<table border=\"1\" class=\"dataframe\">\n",
              "  <thead>\n",
              "    <tr style=\"text-align: right;\">\n",
              "      <th></th>\n",
              "      <th>Country</th>\n",
              "      <th>Cheese</th>\n",
              "      <th>Carcass_Meat</th>\n",
              "      <th>Other_Meat</th>\n",
              "      <th>Fish</th>\n",
              "      <th>Fats_and_Oils</th>\n",
              "      <th>Sugars</th>\n",
              "      <th>Fresh_Potatoes</th>\n",
              "      <th>Fresh_Veg</th>\n",
              "      <th>Other_Veg</th>\n",
              "      <th>Processed_Potatoes</th>\n",
              "      <th>Processed_Veg</th>\n",
              "      <th>Fresh_Fruit</th>\n",
              "      <th>Cereals</th>\n",
              "      <th>Beverages</th>\n",
              "      <th>Soft_Drinks</th>\n",
              "      <th>Alcoholic Drinks</th>\n",
              "      <th>Confectionery</th>\n",
              "    </tr>\n",
              "  </thead>\n",
              "  <tbody>\n",
              "    <tr>\n",
              "      <th>0</th>\n",
              "      <td>England</td>\n",
              "      <td>105</td>\n",
              "      <td>245</td>\n",
              "      <td>685</td>\n",
              "      <td>147</td>\n",
              "      <td>193</td>\n",
              "      <td>156</td>\n",
              "      <td>720</td>\n",
              "      <td>253</td>\n",
              "      <td>488</td>\n",
              "      <td>198</td>\n",
              "      <td>360</td>\n",
              "      <td>1102</td>\n",
              "      <td>1472</td>\n",
              "      <td>57</td>\n",
              "      <td>1374</td>\n",
              "      <td>375</td>\n",
              "      <td>54</td>\n",
              "    </tr>\n",
              "    <tr>\n",
              "      <th>1</th>\n",
              "      <td>Wales</td>\n",
              "      <td>103</td>\n",
              "      <td>227</td>\n",
              "      <td>803</td>\n",
              "      <td>160</td>\n",
              "      <td>235</td>\n",
              "      <td>175</td>\n",
              "      <td>874</td>\n",
              "      <td>265</td>\n",
              "      <td>570</td>\n",
              "      <td>203</td>\n",
              "      <td>365</td>\n",
              "      <td>1137</td>\n",
              "      <td>1582</td>\n",
              "      <td>73</td>\n",
              "      <td>1256</td>\n",
              "      <td>475</td>\n",
              "      <td>64</td>\n",
              "    </tr>\n",
              "    <tr>\n",
              "      <th>2</th>\n",
              "      <td>Scotland</td>\n",
              "      <td>103</td>\n",
              "      <td>242</td>\n",
              "      <td>750</td>\n",
              "      <td>122</td>\n",
              "      <td>184</td>\n",
              "      <td>147</td>\n",
              "      <td>566</td>\n",
              "      <td>171</td>\n",
              "      <td>418</td>\n",
              "      <td>220</td>\n",
              "      <td>337</td>\n",
              "      <td>957</td>\n",
              "      <td>1462</td>\n",
              "      <td>53</td>\n",
              "      <td>1572</td>\n",
              "      <td>458</td>\n",
              "      <td>62</td>\n",
              "    </tr>\n",
              "    <tr>\n",
              "      <th>3</th>\n",
              "      <td>North Ireland</td>\n",
              "      <td>66</td>\n",
              "      <td>267</td>\n",
              "      <td>586</td>\n",
              "      <td>93</td>\n",
              "      <td>209</td>\n",
              "      <td>139</td>\n",
              "      <td>1033</td>\n",
              "      <td>143</td>\n",
              "      <td>355</td>\n",
              "      <td>187</td>\n",
              "      <td>334</td>\n",
              "      <td>674</td>\n",
              "      <td>1494</td>\n",
              "      <td>47</td>\n",
              "      <td>1506</td>\n",
              "      <td>135</td>\n",
              "      <td>41</td>\n",
              "    </tr>\n",
              "  </tbody>\n",
              "</table>\n",
              "</div>"
            ],
            "text/plain": [
              "         Country  Cheese  ...  Alcoholic Drinks  Confectionery\n",
              "0        England     105  ...               375             54\n",
              "1          Wales     103  ...               475             64\n",
              "2       Scotland     103  ...               458             62\n",
              "3  North Ireland      66  ...               135             41\n",
              "\n",
              "[4 rows x 18 columns]"
            ]
          },
          "metadata": {
            "tags": []
          },
          "execution_count": 75
        }
      ]
    },
    {
      "cell_type": "code",
      "metadata": {
        "id": "gss9uu0am_yE",
        "colab_type": "code",
        "colab": {}
      },
      "source": [
        "from sklearn.preprocessing import StandardScaler\n",
        "from sklearn.decomposition import PCA"
      ],
      "execution_count": 76,
      "outputs": []
    },
    {
      "cell_type": "code",
      "metadata": {
        "id": "2HY91nOpaTTZ",
        "colab_type": "code",
        "colab": {
          "base_uri": "https://localhost:8080/",
          "height": 34
        },
        "outputId": "955b8119-2384-496d-eba5-85b4ffcf187c"
      },
      "source": [
        "##### Changing Country names to numeric to standardize #####\n",
        "cat_cols = df.columns[df.dtypes=='object']\n",
        "cat_cols"
      ],
      "execution_count": 77,
      "outputs": [
        {
          "output_type": "execute_result",
          "data": {
            "text/plain": [
              "Index(['Country'], dtype='object')"
            ]
          },
          "metadata": {
            "tags": []
          },
          "execution_count": 77
        }
      ]
    },
    {
      "cell_type": "code",
      "metadata": {
        "id": "s88Beiy2yIQ9",
        "colab_type": "code",
        "colab": {}
      },
      "source": [
        "df[cat_cols] = df[cat_cols].astype('category')"
      ],
      "execution_count": 78,
      "outputs": []
    },
    {
      "cell_type": "code",
      "metadata": {
        "id": "hkCPG-w_x0lD",
        "colab_type": "code",
        "colab": {}
      },
      "source": [
        "for col in cat_cols:\n",
        "    df[col] = df[col].cat.codes "
      ],
      "execution_count": 79,
      "outputs": []
    },
    {
      "cell_type": "code",
      "metadata": {
        "id": "hBfsbImAyjAY",
        "colab_type": "code",
        "colab": {
          "base_uri": "https://localhost:8080/",
          "height": 210
        },
        "outputId": "7772a6a2-45d2-42cb-ea7f-cec1a1a4242e"
      },
      "source": [
        "df"
      ],
      "execution_count": 80,
      "outputs": [
        {
          "output_type": "execute_result",
          "data": {
            "text/html": [
              "<div>\n",
              "<style scoped>\n",
              "    .dataframe tbody tr th:only-of-type {\n",
              "        vertical-align: middle;\n",
              "    }\n",
              "\n",
              "    .dataframe tbody tr th {\n",
              "        vertical-align: top;\n",
              "    }\n",
              "\n",
              "    .dataframe thead th {\n",
              "        text-align: right;\n",
              "    }\n",
              "</style>\n",
              "<table border=\"1\" class=\"dataframe\">\n",
              "  <thead>\n",
              "    <tr style=\"text-align: right;\">\n",
              "      <th></th>\n",
              "      <th>Country</th>\n",
              "      <th>Cheese</th>\n",
              "      <th>Carcass_Meat</th>\n",
              "      <th>Other_Meat</th>\n",
              "      <th>Fish</th>\n",
              "      <th>Fats_and_Oils</th>\n",
              "      <th>Sugars</th>\n",
              "      <th>Fresh_Potatoes</th>\n",
              "      <th>Fresh_Veg</th>\n",
              "      <th>Other_Veg</th>\n",
              "      <th>Processed_Potatoes</th>\n",
              "      <th>Processed_Veg</th>\n",
              "      <th>Fresh_Fruit</th>\n",
              "      <th>Cereals</th>\n",
              "      <th>Beverages</th>\n",
              "      <th>Soft_Drinks</th>\n",
              "      <th>Alcoholic Drinks</th>\n",
              "      <th>Confectionery</th>\n",
              "    </tr>\n",
              "  </thead>\n",
              "  <tbody>\n",
              "    <tr>\n",
              "      <th>0</th>\n",
              "      <td>0</td>\n",
              "      <td>105</td>\n",
              "      <td>245</td>\n",
              "      <td>685</td>\n",
              "      <td>147</td>\n",
              "      <td>193</td>\n",
              "      <td>156</td>\n",
              "      <td>720</td>\n",
              "      <td>253</td>\n",
              "      <td>488</td>\n",
              "      <td>198</td>\n",
              "      <td>360</td>\n",
              "      <td>1102</td>\n",
              "      <td>1472</td>\n",
              "      <td>57</td>\n",
              "      <td>1374</td>\n",
              "      <td>375</td>\n",
              "      <td>54</td>\n",
              "    </tr>\n",
              "    <tr>\n",
              "      <th>1</th>\n",
              "      <td>3</td>\n",
              "      <td>103</td>\n",
              "      <td>227</td>\n",
              "      <td>803</td>\n",
              "      <td>160</td>\n",
              "      <td>235</td>\n",
              "      <td>175</td>\n",
              "      <td>874</td>\n",
              "      <td>265</td>\n",
              "      <td>570</td>\n",
              "      <td>203</td>\n",
              "      <td>365</td>\n",
              "      <td>1137</td>\n",
              "      <td>1582</td>\n",
              "      <td>73</td>\n",
              "      <td>1256</td>\n",
              "      <td>475</td>\n",
              "      <td>64</td>\n",
              "    </tr>\n",
              "    <tr>\n",
              "      <th>2</th>\n",
              "      <td>2</td>\n",
              "      <td>103</td>\n",
              "      <td>242</td>\n",
              "      <td>750</td>\n",
              "      <td>122</td>\n",
              "      <td>184</td>\n",
              "      <td>147</td>\n",
              "      <td>566</td>\n",
              "      <td>171</td>\n",
              "      <td>418</td>\n",
              "      <td>220</td>\n",
              "      <td>337</td>\n",
              "      <td>957</td>\n",
              "      <td>1462</td>\n",
              "      <td>53</td>\n",
              "      <td>1572</td>\n",
              "      <td>458</td>\n",
              "      <td>62</td>\n",
              "    </tr>\n",
              "    <tr>\n",
              "      <th>3</th>\n",
              "      <td>1</td>\n",
              "      <td>66</td>\n",
              "      <td>267</td>\n",
              "      <td>586</td>\n",
              "      <td>93</td>\n",
              "      <td>209</td>\n",
              "      <td>139</td>\n",
              "      <td>1033</td>\n",
              "      <td>143</td>\n",
              "      <td>355</td>\n",
              "      <td>187</td>\n",
              "      <td>334</td>\n",
              "      <td>674</td>\n",
              "      <td>1494</td>\n",
              "      <td>47</td>\n",
              "      <td>1506</td>\n",
              "      <td>135</td>\n",
              "      <td>41</td>\n",
              "    </tr>\n",
              "  </tbody>\n",
              "</table>\n",
              "</div>"
            ],
            "text/plain": [
              "   Country  Cheese  Carcass_Meat  ...  Soft_Drinks  Alcoholic Drinks  Confectionery\n",
              "0        0     105           245  ...         1374               375             54\n",
              "1        3     103           227  ...         1256               475             64\n",
              "2        2     103           242  ...         1572               458             62\n",
              "3        1      66           267  ...         1506               135             41\n",
              "\n",
              "[4 rows x 18 columns]"
            ]
          },
          "metadata": {
            "tags": []
          },
          "execution_count": 80
        }
      ]
    },
    {
      "cell_type": "code",
      "metadata": {
        "id": "JSKnePgfyQ7D",
        "colab_type": "code",
        "colab": {
          "base_uri": "https://localhost:8080/",
          "height": 51
        },
        "outputId": "829c6881-7c4b-4979-8574-15fba5687871"
      },
      "source": [
        "num_cols = df.columns[df.dtypes!='object']\n",
        "print(df.shape)\n",
        "len(num_cols)"
      ],
      "execution_count": 81,
      "outputs": [
        {
          "output_type": "stream",
          "text": [
            "(4, 18)\n"
          ],
          "name": "stdout"
        },
        {
          "output_type": "execute_result",
          "data": {
            "text/plain": [
              "18"
            ]
          },
          "metadata": {
            "tags": []
          },
          "execution_count": 81
        }
      ]
    },
    {
      "cell_type": "code",
      "metadata": {
        "id": "IzWvjbotpMMZ",
        "colab_type": "code",
        "colab": {
          "base_uri": "https://localhost:8080/",
          "height": 289
        },
        "outputId": "4c0a09fe-a239-4d91-f69a-ab4bdc95b2ca"
      },
      "source": [
        "scaler = StandardScaler()\n",
        "standardized = scaler.fit_transform(df)\n",
        "standardized\n",
        "\n"
      ],
      "execution_count": 82,
      "outputs": [
        {
          "output_type": "execute_result",
          "data": {
            "text/plain": [
              "array([[-1.34164079,  0.65827466, -0.01749546, -0.25954622,  0.64458535,\n",
              "        -0.63242919,  0.13055067, -0.45007561,  0.86331183,  0.37773603,\n",
              "        -0.33626508,  0.80547723,  0.73740709, -0.64432226, -0.05191741,\n",
              "        -0.43523112,  0.10499766, -0.13830319],\n",
              "       [ 1.34164079,  0.53580495, -1.27716878,  1.19885635,  1.15244047,\n",
              "         1.53589947,  1.54795798,  0.43569619,  1.09352832,  1.40168163,\n",
              "         0.08406627,  1.17160324,  0.9292974 ,  1.67946294,  1.60943981,\n",
              "        -1.40423624,  0.84182336,  0.96812236],\n",
              "       [ 0.4472136 ,  0.53580495, -0.22744102,  0.54381113, -0.33205912,\n",
              "        -1.09707105, -0.54085279, -1.33584741, -0.70983418, -0.49636387,\n",
              "         1.51319287, -0.87870243, -0.0575671 , -0.85557546, -0.46725672,\n",
              "         1.19072664,  0.71656299,  0.74683725],\n",
              "       [-0.4472136 , -1.72988456,  1.52210526, -1.48312126, -1.4649667 ,\n",
              "         0.19360077, -1.13765587,  1.35022682, -1.24700598, -1.28305378,\n",
              "        -1.26099406, -1.09837804, -1.60913739, -0.17956522, -1.09026568,\n",
              "         0.64874072, -1.66338402, -1.57665641]])"
            ]
          },
          "metadata": {
            "tags": []
          },
          "execution_count": 82
        }
      ]
    },
    {
      "cell_type": "markdown",
      "metadata": {
        "id": "5U50KZkdJb_s",
        "colab_type": "text"
      },
      "source": [
        "## 3.2 Perform PCA on the data and graph Principal Component 1 against Principal Component 2. \n",
        "\n",
        "This might be helpful:\n",
        "\n",
        "<https://scikit-learn.org/stable/modules/generated/sklearn.decomposition.PCA.html>"
      ]
    },
    {
      "cell_type": "code",
      "metadata": {
        "id": "RqjwVokgP1fL",
        "colab_type": "code",
        "colab": {
          "base_uri": "https://localhost:8080/",
          "height": 119
        },
        "outputId": "adbcb5ab-812a-4fd9-de9a-045cb8df4dc8"
      },
      "source": [
        "pca = PCA(2)\n",
        "pca.fit(standardized)\n",
        "\n",
        "transformed = pca.transform(standardized)\n",
        "print(\"\\n Projected Data: \\n\", transformed)\n"
      ],
      "execution_count": 96,
      "outputs": [
        {
          "output_type": "stream",
          "text": [
            "\n",
            " Projected Data: \n",
            " [[-0.70881064  0.40794148]\n",
            " [-4.68907411 -1.75426016]\n",
            " [ 0.4104962   3.20114957]\n",
            " [ 4.98738856 -1.85483089]]\n"
          ],
          "name": "stdout"
        }
      ]
    },
    {
      "cell_type": "code",
      "metadata": {
        "id": "J3biY-qvqoEZ",
        "colab_type": "code",
        "colab": {
          "base_uri": "https://localhost:8080/",
          "height": 295
        },
        "outputId": "70846331-2882-434d-b6f6-8287e8fc0455"
      },
      "source": [
        "df2 = pd.DataFrame(transformed)\n",
        "\n",
        "plt.scatter(df2[0], df2[1])\n",
        "plt.title(\"Data After PCA\")\n",
        "plt.xlabel('PC1')\n",
        "plt.ylabel('PC2')\n",
        "plt.show()"
      ],
      "execution_count": 97,
      "outputs": [
        {
          "output_type": "display_data",
          "data": {
            "image/png": "[encoded data removed]",
            "text/plain": [
              "<Figure size 432x288 with 1 Axes>"
            ]
          },
          "metadata": {
            "tags": [],
            "needs_background": "light"
          }
        }
      ]
    },
    {
      "cell_type": "markdown",
      "metadata": {
        "id": "m_sdj4vvG_tg",
        "colab_type": "text"
      },
      "source": [
        "## 3.3 What are Eigenvalues and Eigenvectors? -In general, not just in PCA."
      ]
    },
    {
      "cell_type": "markdown",
      "metadata": {
        "id": "QlhJnyR2HUTR",
        "colab_type": "text"
      },
      "source": [
        "An Eigenvector is a nonzero vector that changes by atmost one scalar factor when a linear transformation is applied to it. An eigen value is the is the scalar used to transform the vector. "
      ]
    },
    {
      "cell_type": "markdown",
      "metadata": {
        "id": "z-RzYKR0C6Wg",
        "colab_type": "text"
      },
      "source": [
        "# Clustering"
      ]
    },
    {
      "cell_type": "markdown",
      "metadata": {
        "id": "62efk4plJe54",
        "colab_type": "text"
      },
      "source": [
        "## 4.1 Use K-Means to cluster the following data and then graph your results. \n",
        "\n",
        "We have included some code to get you started so that you don't get stuck on something that isn't standardizing clustering.\n",
        "\n",
        "Prioritize calculating the clusters over graphing them. \n",
        "\n",
        "Scikit-Learn K-Means Documentation:\n",
        "\n",
        "<https://scikit-learn.org/stable/modules/generated/sklearn.cluster.KMeans.html>"
      ]
    },
    {
      "cell_type": "code",
      "metadata": {
        "id": "miK5Aeg-JlzJ",
        "colab_type": "code",
        "colab": {
          "base_uri": "https://localhost:8080/",
          "height": 204
        },
        "outputId": "34a048cd-4631-4d7b-e689-bfe944cb022c"
      },
      "source": [
        "points = pd.read_csv('https://raw.githubusercontent.com/ryanleeallred/datasets/master/points.csv')\n",
        "points.head()"
      ],
      "execution_count": 109,
      "outputs": [
        {
          "output_type": "execute_result",
          "data": {
            "text/html": [
              "<div>\n",
              "<style scoped>\n",
              "    .dataframe tbody tr th:only-of-type {\n",
              "        vertical-align: middle;\n",
              "    }\n",
              "\n",
              "    .dataframe tbody tr th {\n",
              "        vertical-align: top;\n",
              "    }\n",
              "\n",
              "    .dataframe thead th {\n",
              "        text-align: right;\n",
              "    }\n",
              "</style>\n",
              "<table border=\"1\" class=\"dataframe\">\n",
              "  <thead>\n",
              "    <tr style=\"text-align: right;\">\n",
              "      <th></th>\n",
              "      <th>x</th>\n",
              "      <th>y</th>\n",
              "    </tr>\n",
              "  </thead>\n",
              "  <tbody>\n",
              "    <tr>\n",
              "      <th>0</th>\n",
              "      <td>-7.846803</td>\n",
              "      <td>-3.421277</td>\n",
              "    </tr>\n",
              "    <tr>\n",
              "      <th>1</th>\n",
              "      <td>-3.554323</td>\n",
              "      <td>-6.884729</td>\n",
              "    </tr>\n",
              "    <tr>\n",
              "      <th>2</th>\n",
              "      <td>-0.192822</td>\n",
              "      <td>-9.671030</td>\n",
              "    </tr>\n",
              "    <tr>\n",
              "      <th>3</th>\n",
              "      <td>-6.401456</td>\n",
              "      <td>-5.223972</td>\n",
              "    </tr>\n",
              "    <tr>\n",
              "      <th>4</th>\n",
              "      <td>-0.804026</td>\n",
              "      <td>-9.704457</td>\n",
              "    </tr>\n",
              "  </tbody>\n",
              "</table>\n",
              "</div>"
            ],
            "text/plain": [
              "          x         y\n",
              "0 -7.846803 -3.421277\n",
              "1 -3.554323 -6.884729\n",
              "2 -0.192822 -9.671030\n",
              "3 -6.401456 -5.223972\n",
              "4 -0.804026 -9.704457"
            ]
          },
          "metadata": {
            "tags": []
          },
          "execution_count": 109
        }
      ]
    },
    {
      "cell_type": "code",
      "metadata": {
        "id": "CYtw5Nvj1ChB",
        "colab_type": "code",
        "colab": {}
      },
      "source": [
        "from sklearn.cluster import KMeans "
      ],
      "execution_count": 105,
      "outputs": []
    },
    {
      "cell_type": "code",
      "metadata": {
        "id": "qX0zKKznTzcI",
        "colab_type": "code",
        "colab": {}
      },
      "source": [
        "###Function for finding centroids###\n",
        "def get_centroids(df, column_header):\n",
        "    new_centroids = df.groupby(column_header).mean()\n",
        "    return new_centroids\n",
        "\n",
        "###Function for plotting clusters###\n",
        "def plot_clusters(df, column_header, centroids):\n",
        "    colors = {0:'red', 1:'blue', 2:'gold', 3:'purple', 4:'green', }\n",
        "    fig, ax = plt.subplots()\n",
        "    ax.plot(centroids.loc[0, 'x'], centroids.loc[0, 'y'], \"ok\")\n",
        "    ax.plot(centroids.loc[1, 'x'], centroids.loc[1, 'y'], \"ok\")\n",
        "    ax.plot(centroids.loc[2, 'x'], centroids.loc[2, 'y'], \"ok\")\n",
        "    ax.plot(centroids.loc[3, 'x'], centroids.loc[3, 'y'], \"ok\")\n",
        "    ax.plot(centroids.loc[4, 'x'], centroids.loc[4, 'y'], \"ok\")\n",
        "    grouped = df.groupby(column_header)\n",
        "    for key, group in grouped:\n",
        "        group.plot(ax=ax, kind='scatter', x='x', y='y', label=key, color=colors[key])\n",
        "    plt.show()"
      ],
      "execution_count": 150,
      "outputs": []
    },
    {
      "cell_type": "code",
      "metadata": {
        "id": "3MI_wn5D08b3",
        "colab_type": "code",
        "colab": {}
      },
      "source": [
        "# Instantiate the sklearn class\n",
        "k = KMeans(n_clusters=5)"
      ],
      "execution_count": 151,
      "outputs": []
    },
    {
      "cell_type": "code",
      "metadata": {
        "id": "9wCEsCb21HXY",
        "colab_type": "code",
        "colab": {
          "base_uri": "https://localhost:8080/",
          "height": 68
        },
        "outputId": "e24a13ff-12ea-4d15-cac6-406ad14dacfa"
      },
      "source": [
        "# Fit the model to the data\n",
        "k.fit(points)"
      ],
      "execution_count": 152,
      "outputs": [
        {
          "output_type": "execute_result",
          "data": {
            "text/plain": [
              "KMeans(algorithm='auto', copy_x=True, init='k-means++', max_iter=300,\n",
              "       n_clusters=5, n_init=10, n_jobs=None, precompute_distances='auto',\n",
              "       random_state=None, tol=0.0001, verbose=0)"
            ]
          },
          "metadata": {
            "tags": []
          },
          "execution_count": 152
        }
      ]
    },
    {
      "cell_type": "code",
      "metadata": {
        "id": "LX3Q6Oom179f",
        "colab_type": "code",
        "colab": {
          "base_uri": "https://localhost:8080/",
          "height": 119
        },
        "outputId": "197a300a-fd7a-4ba3-8c20-130d35a0073d"
      },
      "source": [
        "# Create labels \n",
        "labels = k.labels_\n",
        "print(labels)"
      ],
      "execution_count": 153,
      "outputs": [
        {
          "output_type": "stream",
          "text": [
            "[2 4 0 2 0 4 2 2 1 4 4 4 0 4 2 0 2 4 4 3 2 3 3 3 4 4 0 1 4 4 4 4 0 3 4 4 4\n",
            " 4 1 0 0 3 1 1 1 4 4 4 2 0 3 2 2 1 3 0 4 1 1 2 3 0 2 1 3 1 3 1 2 1 4 4 4 4\n",
            " 3 3 4 4 1 3 1 4 4 4 1 4 1 4 4 3 1 4 3 4 0 4 4 4 4 0 4 4 2 4 4 3 2 2 2 3 0\n",
            " 3 4 2 4 4 1 1 3 1 3 0 4 2 4 2 4 3 1 2 0 2 4 2 1 1 0 3 2 4 1 4 4 3 0 1 4 1\n",
            " 2 4 4 0 2 3 4 1 0 3 4 2 0 4 1 2 3 3 4 1 0 0 2 0 1 3 0 4 4 4 4 2 4 0 4 4 0\n",
            " 4 2 3 1 0 4 2 3 2 4 1 3 3 0 0]\n"
          ],
          "name": "stdout"
        }
      ]
    },
    {
      "cell_type": "code",
      "metadata": {
        "id": "HXH0cflb2J5N",
        "colab_type": "code",
        "colab": {
          "base_uri": "https://localhost:8080/",
          "height": 359
        },
        "outputId": "204d125f-2e83-42ad-d6d2-dd996692de33"
      },
      "source": [
        "# Add our new labels to the dataframe\n",
        "clusters = pd.Series(labels)\n",
        "points['clusters'] = clusters.values\n",
        "points.head(10)"
      ],
      "execution_count": 154,
      "outputs": [
        {
          "output_type": "execute_result",
          "data": {
            "text/html": [
              "<div>\n",
              "<style scoped>\n",
              "    .dataframe tbody tr th:only-of-type {\n",
              "        vertical-align: middle;\n",
              "    }\n",
              "\n",
              "    .dataframe tbody tr th {\n",
              "        vertical-align: top;\n",
              "    }\n",
              "\n",
              "    .dataframe thead th {\n",
              "        text-align: right;\n",
              "    }\n",
              "</style>\n",
              "<table border=\"1\" class=\"dataframe\">\n",
              "  <thead>\n",
              "    <tr style=\"text-align: right;\">\n",
              "      <th></th>\n",
              "      <th>x</th>\n",
              "      <th>y</th>\n",
              "      <th>clusters</th>\n",
              "    </tr>\n",
              "  </thead>\n",
              "  <tbody>\n",
              "    <tr>\n",
              "      <th>0</th>\n",
              "      <td>-7.846803</td>\n",
              "      <td>-3.421277</td>\n",
              "      <td>2</td>\n",
              "    </tr>\n",
              "    <tr>\n",
              "      <th>1</th>\n",
              "      <td>-3.554323</td>\n",
              "      <td>-6.884729</td>\n",
              "      <td>4</td>\n",
              "    </tr>\n",
              "    <tr>\n",
              "      <th>2</th>\n",
              "      <td>-0.192822</td>\n",
              "      <td>-9.671030</td>\n",
              "      <td>0</td>\n",
              "    </tr>\n",
              "    <tr>\n",
              "      <th>3</th>\n",
              "      <td>-6.401456</td>\n",
              "      <td>-5.223972</td>\n",
              "      <td>2</td>\n",
              "    </tr>\n",
              "    <tr>\n",
              "      <th>4</th>\n",
              "      <td>-0.804026</td>\n",
              "      <td>-9.704457</td>\n",
              "      <td>0</td>\n",
              "    </tr>\n",
              "    <tr>\n",
              "      <th>5</th>\n",
              "      <td>-4.977194</td>\n",
              "      <td>-6.138836</td>\n",
              "      <td>4</td>\n",
              "    </tr>\n",
              "    <tr>\n",
              "      <th>6</th>\n",
              "      <td>-8.118990</td>\n",
              "      <td>-3.624109</td>\n",
              "      <td>2</td>\n",
              "    </tr>\n",
              "    <tr>\n",
              "      <th>7</th>\n",
              "      <td>-8.145629</td>\n",
              "      <td>-2.787951</td>\n",
              "      <td>2</td>\n",
              "    </tr>\n",
              "    <tr>\n",
              "      <th>8</th>\n",
              "      <td>-3.568659</td>\n",
              "      <td>5.401781</td>\n",
              "      <td>1</td>\n",
              "    </tr>\n",
              "    <tr>\n",
              "      <th>9</th>\n",
              "      <td>-5.711709</td>\n",
              "      <td>-6.802013</td>\n",
              "      <td>4</td>\n",
              "    </tr>\n",
              "  </tbody>\n",
              "</table>\n",
              "</div>"
            ],
            "text/plain": [
              "          x         y  clusters\n",
              "0 -7.846803 -3.421277         2\n",
              "1 -3.554323 -6.884729         4\n",
              "2 -0.192822 -9.671030         0\n",
              "3 -6.401456 -5.223972         2\n",
              "4 -0.804026 -9.704457         0\n",
              "5 -4.977194 -6.138836         4\n",
              "6 -8.118990 -3.624109         2\n",
              "7 -8.145629 -2.787951         2\n",
              "8 -3.568659  5.401781         1\n",
              "9 -5.711709 -6.802013         4"
            ]
          },
          "metadata": {
            "tags": []
          },
          "execution_count": 154
        }
      ]
    },
    {
      "cell_type": "code",
      "metadata": {
        "id": "O9grHQ3d2qXA",
        "colab_type": "code",
        "colab": {
          "base_uri": "https://localhost:8080/",
          "height": 279
        },
        "outputId": "60019cc3-2430-48df-c54d-4053ccca8cc5"
      },
      "source": [
        "centroids = get_centroids(points, 'clusters')\n",
        "plot_clusters(points, 'clusters', centroids)"
      ],
      "execution_count": 155,
      "outputs": [
        {
          "output_type": "display_data",
          "data": {
            "image/png": "[encoded data removed]",
            "text/plain": [
              "<Figure size 432x288 with 1 Axes>"
            ]
          },
          "metadata": {
            "tags": [],
            "needs_background": "light"
          }
        }
      ]
    },
    {
      "cell_type": "markdown",
      "metadata": {
        "id": "oxxNyhv_FGKB",
        "colab_type": "text"
      },
      "source": [
        "# Stretch Goals (AKA how to get a 3):\n",
        "\n",
        "Complete the stretch goals for each section in order to get a 3 on that section.\n",
        "\n",
        "## Parts 1 & 2 (do all of the following): \n",
        "  - Comment your code well with both markdown and inline comments where appropriate\n",
        "  - Show your work with code and possibly LaTeX \n",
        "  - Justify your answers particularly well to show advanced mastery of this section\n",
        "\n",
        "## Part 3 (do all of the following): \n",
        " - Create a Scree Plot to show the Proportion of Explained Variance of each Principal Component (more than the first two)\n",
        "    - If you want to include a the cumulative proportion of explained variance, you might be interested in this NumPy Function: [numpy.cumsum](https://docs.scipy.org/doc/numpy/reference/generated/numpy.cumsum.html)\n",
        " - Give a top-notch explanation of eigenvalues and eigenvectors. Feel free to any materials, images, code, graphs, LaTeX, etc. to spruce up your answer.\n",
        "\n",
        "## Part 4 (do all of the following):\n",
        "- Justify your choice of k, both visually (scatterplot) and mathematically (elbow plot)."
      ]
    },
    {
      "cell_type": "code",
      "metadata": {
        "id": "oV5O6iIW9-vl",
        "colab_type": "code",
        "colab": {}
      },
      "source": [
        ""
      ],
      "execution_count": 86,
      "outputs": []
    }
  ]
}