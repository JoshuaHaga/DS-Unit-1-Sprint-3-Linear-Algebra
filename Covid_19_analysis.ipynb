{
  "nbformat": 4,
  "nbformat_minor": 0,
  "metadata": {
    "colab": {
      "name": "Covid_19_analysis.ipynb",
      "provenance": [],
      "toc_visible": true,
      "authorship_tag": "ABX9TyP48xrgR50XBbiU2hIhsRb3",
      "include_colab_link": true
    },
    "kernelspec": {
      "name": "python3",
      "display_name": "Python 3"
    }
  },
  "cells": [
    {
      "cell_type": "markdown",
      "metadata": {
        "id": "view-in-github",
        "colab_type": "text"
      },
      "source": [
        "<a href=\"https://colab.research.google.com/github/JoshuaHaga/DS-Unit-1-Sprint-3-Linear-Algebra/blob/master/Covid_19_analysis.ipynb\" target=\"_parent\"><img src=\"https://colab.research.google.com/assets/colab-badge.svg\" alt=\"Open In Colab\"/></a>"
      ]
    },
    {
      "cell_type": "code",
      "metadata": {
        "id": "nrtC-u55iKPE",
        "colab_type": "code",
        "colab": {
          "base_uri": "https://localhost:8080/",
          "height": 275
        },
        "outputId": "85f1d0b4-8ed8-4022-9c67-a99fd1e69c85"
      },
      "source": [
        "!wget 'https://storage.googleapis.com/kaggle-data-sets/555089%2F1416097%2Fbundle%2Farchive.zip?GoogleAccessId=gcp-kaggle-com@kaggle-161607.iam.gserviceaccount.com&Expires=1598147753&Signature=IukcSTm6w5zUlHaMV4oEP54bDH7VN6pQZQ5IXC5lPv0iVDEdglpdZ3muSmSpuCc56KZKg4zErk2hCG5BocMkfIwGNamqjqJtdHJFKdL4LC2jU%2B71KL%2BVFwfpv6q907o7MztOCZ44oC444RnrTDiobim5%2FdcBZAJ2GYLKpV3TdavOVMtWxhnWDs1r0BhwLLlWFINNa5eRfpmSn9n5MDSkBwZGq9nmmNMVjJHRv%2FRTfflREET2aTC8hPBFSQQN57Wk6HBvWzSzWrbxv91qZ0RU8EY%2BocXQ7jjshUxJzNr1%2BAqlmSIEB9azuFGzUw0JeJoXzbLjS59PLj3R0k2TMEUb%2Fg%3D%3D'"
      ],
      "execution_count": null,
      "outputs": [
        {
          "output_type": "stream",
          "text": [
            "The name is too long, 487 chars total.\n",
            "Trying to shorten...\n",
            "New name is 555089%2F1416097%2Fbundle%2Farchive.zip?GoogleAccessId=gcp-kaggle-com@kaggle-161607.iam.gserviceaccount.com&Expires=1598147753&Signature=IukcSTm6w5zUlHaMV4oEP54bDH7VN6pQZQ5IXC5lPv0iVDEdglpdZ3muSmSpuCc56KZKg4zErk2hCG5BocMkfIwGNamqjqJtdHJ.\n",
            "--2020-08-20 02:02:58--  https://storage.googleapis.com/kaggle-data-sets/555089%2F1416097%2Fbundle%2Farchive.zip?GoogleAccessId=gcp-kaggle-com@kaggle-161607.iam.gserviceaccount.com&Expires=1598147753&Signature=IukcSTm6w5zUlHaMV4oEP54bDH7VN6pQZQ5IXC5lPv0iVDEdglpdZ3muSmSpuCc56KZKg4zErk2hCG5BocMkfIwGNamqjqJtdHJFKdL4LC2jU%2B71KL%2BVFwfpv6q907o7MztOCZ44oC444RnrTDiobim5%2FdcBZAJ2GYLKpV3TdavOVMtWxhnWDs1r0BhwLLlWFINNa5eRfpmSn9n5MDSkBwZGq9nmmNMVjJHRv%2FRTfflREET2aTC8hPBFSQQN57Wk6HBvWzSzWrbxv91qZ0RU8EY%2BocXQ7jjshUxJzNr1%2BAqlmSIEB9azuFGzUw0JeJoXzbLjS59PLj3R0k2TMEUb%2Fg%3D%3D\n",
            "Resolving storage.googleapis.com (storage.googleapis.com)... 108.177.125.128, 74.125.23.128, 64.233.187.128, ...\n",
            "Connecting to storage.googleapis.com (storage.googleapis.com)|108.177.125.128|:443... connected.\n",
            "HTTP request sent, awaiting response... 200 OK\n",
            "Length: 5091268 (4.9M) [application/zip]\n",
            "Saving to: ‘555089%2F1416097%2Fbundle%2Farchive.zip?GoogleAccessId=gcp-kaggle-com@kaggle-161607.iam.gserviceaccount.com&Expires=1598147753&Signature=IukcSTm6w5zUlHaMV4oEP54bDH7VN6pQZQ5IXC5lPv0iVDEdglpdZ3muSmSpuCc56KZKg4zErk2hCG5BocMkfIwGNamqjqJtdHJ.1’\n",
            "\n",
            "\r          555089%2F   0%[                    ]       0  --.-KB/s               \r555089%2F1416097%2F 100%[===================>]   4.85M  --.-KB/s    in 0.03s   \n",
            "\n",
            "2020-08-20 02:02:58 (172 MB/s) - ‘555089%2F1416097%2Fbundle%2Farchive.zip?GoogleAccessId=gcp-kaggle-com@kaggle-161607.iam.gserviceaccount.com&Expires=1598147753&Signature=IukcSTm6w5zUlHaMV4oEP54bDH7VN6pQZQ5IXC5lPv0iVDEdglpdZ3muSmSpuCc56KZKg4zErk2hCG5BocMkfIwGNamqjqJtdHJ.1’ saved [5091268/5091268]\n",
            "\n"
          ],
          "name": "stdout"
        }
      ]
    },
    {
      "cell_type": "code",
      "metadata": {
        "id": "iBjVLJ6fh8VB",
        "colab_type": "code",
        "colab": {
          "base_uri": "https://localhost:8080/",
          "height": 71
        },
        "outputId": "cd6df1b3-578e-4f87-d10f-683b3c2cfab5"
      },
      "source": [
        "!unzip '/content/555089%2F1416097%2Fbundle%2Farchive.zip?GoogleAccessId=gcp-kaggle-com@kaggle-161607.iam.gserviceaccount.com&Expires=1598147753&Signature=IukcSTm6w5zUlHaMV4oEP54bDH7VN6pQZQ5IXC5lPv0iVDEdglpdZ3muSmSpuCc56KZKg4zErk2hCG5BocMkfIwGNamqjqJtdHJ'"
      ],
      "execution_count": null,
      "outputs": [
        {
          "output_type": "stream",
          "text": [
            "Archive:  /content/555089%2F1416097%2Fbundle%2Farchive.zip?GoogleAccessId=gcp-kaggle-com@kaggle-161607.iam.gserviceaccount.com&Expires=1598147753&Signature=IukcSTm6w5zUlHaMV4oEP54bDH7VN6pQZQ5IXC5lPv0iVDEdglpdZ3muSmSpuCc56KZKg4zErk2hCG5BocMkfIwGNamqjqJtdHJ\n",
            "replace us_counties_covid19_daily.csv? [y]es, [n]o, [A]ll, [N]one, [r]ename: "
          ],
          "name": "stdout"
        }
      ]
    },
    {
      "cell_type": "markdown",
      "metadata": {
        "id": "7KU9XF0rl226",
        "colab_type": "text"
      },
      "source": [
        "##COVID-19 in USA"
      ]
    },
    {
      "cell_type": "markdown",
      "metadata": {
        "id": "RnG4yhU5l7wy",
        "colab_type": "text"
      },
      "source": [
        "#Context\n",
        "Data is obtained from COVID-19 Tracking project and NYTimes. Sincere thanks to them for making it available to the public.\n",
        "\n",
        "Coronaviruses are a large family of viruses which may cause illness in animals or humans. In humans, several coronaviruses are known to cause respiratory infections ranging from the common cold to more severe diseases such as Middle East Respiratory Syndrome (MERS) and Severe Acute Respiratory Syndrome (SARS). The most recently discovered coronavirus causes coronavirus disease COVID-19 - World Health Organization\n",
        "\n",
        "The number of new cases are increasing day by day around the world. This dataset has information from 50 US states and the District of Columbia at daily level."
      ]
    },
    {
      "cell_type": "markdown",
      "metadata": {
        "id": "Qe4zTg1ZmMrl",
        "colab_type": "text"
      },
      "source": [
        "The Original Dataset can be found on kaggle by clicking [here](https://www.kaggle.com/sudalairajkumar/covid19-in-usa)."
      ]
    },
    {
      "cell_type": "code",
      "metadata": {
        "id": "zEdxUi4tlubS",
        "colab_type": "code",
        "colab": {}
      },
      "source": [
        ""
      ],
      "execution_count": null,
      "outputs": []
    }
  ]
}